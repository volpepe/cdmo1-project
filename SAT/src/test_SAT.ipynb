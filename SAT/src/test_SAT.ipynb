{
 "cells": [
  {
   "cell_type": "code",
   "execution_count": 1,
   "metadata": {},
   "outputs": [],
   "source": [
    "from itertools import combinations\n",
    "from z3 import *\n",
    "import sys\n",
    "import os\n",
    "import re\n",
    "\n",
    "sys.path.append(os.path.realpath('../../utils'))\n",
    "from problem import ProblemInstance, parse_problem_file\n",
    "from solution import SolutionInstance, Circuit\n",
    "from initial_solution import construct_initial_solution"
   ]
  },
  {
   "cell_type": "code",
   "execution_count": 2,
   "metadata": {},
   "outputs": [],
   "source": [
    "# Define complex constraints\n",
    "def at_least_one(bool_vars):\n",
    "    return Or(bool_vars)\n",
    "\n",
    "def at_most_one(bool_vars):\n",
    "    return [Not(And(pair[0], pair[1])) for pair in combinations(bool_vars, 2)]\n",
    "\n",
    "def exactly_one(solver, bool_vars):\n",
    "    solver.add(at_most_one(bool_vars))\n",
    "    solver.add(at_least_one(bool_vars))"
   ]
  },
  {
   "cell_type": "code",
   "execution_count": 3,
   "metadata": {},
   "outputs": [
    {
     "name": "stdout",
     "output_type": "stream",
     "text": [
      "w = 8;\n",
      "n = 4;\n",
      "measures = [|5, 5,\n",
      "|3, 5,\n",
      "|5, 3,\n",
      "|3, 3,\n",
      "|];\n"
     ]
    }
   ],
   "source": [
    "inst:ProblemInstance = parse_problem_file('../../instances/ins-1.txt')\n",
    "print(inst.format_for_dzn())"
   ]
  },
  {
   "cell_type": "markdown",
   "metadata": {},
   "source": [
    "With these functions we can index the circuits' width and height"
   ]
  },
  {
   "cell_type": "code",
   "execution_count": 4,
   "metadata": {},
   "outputs": [],
   "source": [
    "W = inst.wg\n",
    "\n",
    "def get_cw(circ):\n",
    "    return inst.circuits[circ].w\n",
    "\n",
    "def get_ch(circ):\n",
    "    return inst.circuits[circ].h"
   ]
  },
  {
   "cell_type": "markdown",
   "metadata": {},
   "source": [
    "Create initial solution"
   ]
  },
  {
   "cell_type": "code",
   "execution_count": 5,
   "metadata": {},
   "outputs": [],
   "source": [
    "init_inst = construct_initial_solution(inst)\n",
    "max_h = max([circ.y0 + circ.h for circ in init_inst.circuits])"
   ]
  },
  {
   "cell_type": "markdown",
   "metadata": {},
   "source": [
    "1. Create all boolean variables for the circuits. We have:\n",
    "- $px_{c,e}$ indicates that circuit $c$ is placed at a x-axis position less or equal than $e$ (i.e. $x_c \\leq e$)\n",
    "- $py_{c,f}$ indicates that circuit $c$ is placed at a y-axis position less or equal than $f$ (i.e. $y_c \\leq f$)"
   ]
  },
  {
   "cell_type": "code",
   "execution_count": 6,
   "metadata": {},
   "outputs": [],
   "source": [
    "px = [[Bool(f\"px_{c}_{e}\") for e in range(W)] for c in range(inst.n)]\n",
    "py = [[Bool(f\"py_{c}_{f}\") for f in range(max_h)] for c in range(inst.n)]\n",
    "lr = [[Bool(f\"lr_{i}_{j}\") for j in range(inst.n) if i != j] for i in range(inst.n)]\n",
    "ud = [[Bool(f\"ud_{i}_{j}\") for j in range(inst.n) if i != j] for i in range(inst.n)]"
   ]
  },
  {
   "cell_type": "markdown",
   "metadata": {},
   "source": [
    "This function is used to index lr and ud"
   ]
  },
  {
   "cell_type": "code",
   "execution_count": 7,
   "metadata": {},
   "outputs": [],
   "source": [
    "def index_orders(var, c1, c2):\n",
    "    if c1 == c2:\n",
    "        raise ValueError\n",
    "    if c2 > c1:\n",
    "        return var[c1][c2-1]\n",
    "    else:\n",
    "        return var[c1][c2]"
   ]
  },
  {
   "cell_type": "markdown",
   "metadata": {},
   "source": [
    "2. Create solver instance"
   ]
  },
  {
   "cell_type": "code",
   "execution_count": 8,
   "metadata": {},
   "outputs": [],
   "source": [
    "s = Solver()"
   ]
  },
  {
   "cell_type": "markdown",
   "metadata": {},
   "source": [
    "3. Constraints:"
   ]
  },
  {
   "cell_type": "markdown",
   "metadata": {},
   "source": [
    "- The values for which it makes sense to have True boolean variables $px_{c, e}$ and $py_{c, f}$ depend for each circuit $c$:\n",
    "    - $e \\in \\{0 \\dots W-w_i\\}$\n",
    "    - $f \\in \\{0 \\dots H-h_i\\}$\n",
    "- For circuit $i$ and for each available position $e$, we have that if $px_{i,e}$ is True, then also $px_{i,e+1}$ must be True, while if $px_{i,e}$ is False, $px_{i,e+1}$ can be anything (i.e. a circuit might start immediately after $e$ or later).\n",
    "- The same is true on the y-axis.\n",
    "\n",
    "So we have the following conditions:\n",
    "$$\n",
    "\\lnot px_{i,e} \\lor px_{i,e+1}\n",
    "$$\n",
    "$$\n",
    "\\lnot py_{i,f} \\lor py_{i,f+1}\n",
    "$$"
   ]
  },
  {
   "cell_type": "code",
   "execution_count": 9,
   "metadata": {},
   "outputs": [],
   "source": [
    "for circ in range(inst.n):\n",
    "    # The circuit should be placed somewhere\n",
    "    s.add(at_least_one([px[circ][e] for e in range(W-get_cw(circ)+1)]))\n",
    "    s.add(at_least_one([py[circ][f] for f in range(max_h-get_ch(circ)+1)]))\n",
    "    # The above conditions ensuring order\n",
    "    s.add([Or(Not(px[circ][e]), px[circ][e+1]) \n",
    "        for e in range(W-get_cw(circ))])\n",
    "    s.add([Or(Not(py[circ][f]), py[circ][f+1]) \n",
    "        for f in range(max_h-get_ch(circ))])"
   ]
  },
  {
   "cell_type": "markdown",
   "metadata": {},
   "source": [
    "- We can force a circuit to be at (0,0)"
   ]
  },
  {
   "cell_type": "code",
   "execution_count": 10,
   "metadata": {},
   "outputs": [],
   "source": [
    "s.add(Or([\n",
    "    And(px[circ][0], py[circ][0]) for circ in range(inst.n)\n",
    "]))"
   ]
  },
  {
   "cell_type": "markdown",
   "metadata": {},
   "source": [
    "- Non-overlapping constraints between each rectangle: for each pair of circuits $r_i$, $r_j$, ($i < j$) one must be before the other. \n",
    "\n",
    "- Also, the non-overlapping constraint can be decomposed into this formulation: for each pair of rectangles $r_i$ and $r_j$ ($1 \\leq i < j \\leq n$), we have:\n",
    "$$\n",
    "(x_i + w_i \\leq x_j) \\lor (x_j + w_j \\leq x_i) \\lor (y_i + h_i \\leq y_j) \\lor (y_j + h_j \\leq y_i)\n",
    "$$\n",
    "\n",
    "- With our boolean logic variables we can say that:\n",
    "    - On the x-axis, if one is before the other (eg. $c_i$ is before $c_j$, so $lr_{i,j} = T$), then for all integers $e$ such that $0 \\leq e < W−w_i$, if $c_i$ is placed after $e$, then $c_j$ cannot be placed before $e+w_i$ (i.e. if $c_i$ was placed at $e+1$, it would occupy all cells up to $e+w_i$ and that would be the first available position for the next circuit). We can say something similar when $c_j$ is before $c_i$: then $c_i$ cannot be before position $e+w_j$ if $c_j$ is not before position $0 \\leq e < W−w_j$. This can be encoded into the following pair of constraints:\n",
    "    $$\n",
    "    \\lnot lr_{i,j} \\lor px_{i,e} \\lor \\lnot px_{j,e+w_i}\n",
    "    $$\n",
    "    $$\n",
    "    \\lnot lr_{j,i} \\lor px_{j,e} \\lor \\lnot px_{i,e+w_j}\n",
    "    $$\n",
    "    - On the y-axis a similar condition occurs.\n",
    "    $$\n",
    "    \\lnot ud_{i,j} \\lor py_{i,f} \\lor \\lnot py_{j, f+h_i}\n",
    "    $$\n",
    "    $$\n",
    "    \\lnot ud_{j,i} \\lor py_{j,f} \\lor \\lnot py_{i, f+h_j}\n",
    "    $$\n",
    "- Furthermore, if $i$ is placed before $j$, $c_j$ cannot be placed in the first $w_i$ cells and if $j$ is placed before $i$ $c_i$ cannot be placed in the first $w_j$ cells. A similar constraint is available in the y-axis and can be formalized with the following constraints:\n",
    "    - $\\forall e \\in \\{0,\\dots,w_i\\}:  \\lnot lr_{i,j} \\lor \\lnot px_{j,e}$\n",
    "    - $\\forall e \\in \\{0,\\dots,w_j\\}:  \\lnot lr_{j,i} \\lor \\lnot px_{i,e}$\n",
    "    - $\\forall f \\in \\{0,\\dots,h_i\\}:  \\lnot ud_{i,j} \\lor \\lnot py_{j,f}$\n",
    "    - $\\forall f \\in \\{0,\\dots,h_j\\}:  \\lnot ud_{j,i} \\lor \\lnot py_{i,f}$"
   ]
  },
  {
   "cell_type": "code",
   "execution_count": 11,
   "metadata": {},
   "outputs": [],
   "source": [
    "for ci, cj in combinations(range(inst.n), 2):\n",
    "    # One must be before the other in some way\n",
    "    s.add(Or(\n",
    "        index_orders(lr, ci, cj),\n",
    "        index_orders(lr, cj, ci),\n",
    "        index_orders(ud, ci, cj),\n",
    "        index_orders(ud, cj, ci)\n",
    "    ))\n",
    "    # The complex constraint specified above:\n",
    "    #### HORIZONTAL ####\n",
    "    # If i is before j, then px[cj] cannot be before ci_w\n",
    "    for e in range(get_cw(ci)):\n",
    "        s.add(Or(\n",
    "            Not(index_orders(lr, ci, cj)),\n",
    "            Not(px[cj][e])\n",
    "        ))\n",
    "    # Then, we pose the full constraint\n",
    "    for e in range(W-get_cw(ci)):\n",
    "        s.add(Or(\n",
    "            Not(index_orders(lr, ci, cj)), \n",
    "            px[ci][e],\n",
    "            Not(px[cj][e+get_cw(ci)])\n",
    "        ))\n",
    "    # If j is before i, then px[ci] cannot be before cj_w\n",
    "    for e in range(get_cw(cj)):\n",
    "        s.add(Or(\n",
    "            Not(index_orders(lr, cj, ci)),\n",
    "            Not(px[ci][e])\n",
    "        ))\n",
    "    # Then, we have the full constraint\n",
    "    for e in range(W-get_cw(cj)):\n",
    "        s.add(Or(\n",
    "            Not(index_orders(lr, cj, ci)), \n",
    "            px[cj][e],\n",
    "            Not(px[ci][e+get_cw(cj)])\n",
    "        ))\n",
    "    #### VERTICAL ####\n",
    "    # If i is above j, then px[cj] cannot be before ci_w\n",
    "    for f in range(get_ch(ci)):\n",
    "        s.add(Or(\n",
    "            Not(index_orders(ud, ci, cj)),\n",
    "            Not(py[cj][f])\n",
    "        ))\n",
    "    # Then, we have the full constraint\n",
    "    for f in range(max_h-get_ch(ci)):\n",
    "        s.add(Or(\n",
    "            Not(index_orders(ud, ci, cj)), \n",
    "            py[ci][f],\n",
    "            Not(py[cj][f+get_ch(ci)])\n",
    "        ))\n",
    "    # If j is above i, then py[ci] cannot be before cj_h\n",
    "    for f in range(get_ch(cj)):\n",
    "        s.add(Or(\n",
    "            Not(index_orders(ud, cj, ci)),\n",
    "            Not(py[ci][f])\n",
    "        ))\n",
    "    # Then, we have the full constraint\n",
    "    for f in range(max_h-get_ch(cj)):\n",
    "        s.add(Or(\n",
    "            Not(index_orders(ud, cj, ci)), \n",
    "            py[cj][f],\n",
    "            Not(py[ci][f+get_ch(cj)])\n",
    "        ))"
   ]
  },
  {
   "cell_type": "code",
   "execution_count": 12,
   "metadata": {},
   "outputs": [
    {
     "name": "stdout",
     "output_type": "stream",
     "text": [
      "[py_2_5, py_0_3, py_1_1, py_3_5, py_0_5, px_1_1, ud_1_2, px_2_2, py_0_0, px_3_6, px_1_3, py_1_0, px_2_3, px_1_2, px_2_1, ud_0_2, ud_0_3, px_2_5, py_0_1, lr_2_3, py_1_2, py_0_6, px_2_0, py_1_3, px_3_5, py_0_4, py_0_2, px_0_3, px_1_0, px_1_4, px_1_5, lr_1_0, lr_1_3]\n"
     ]
    }
   ],
   "source": [
    "if s.check() == sat:\n",
    "    m = s.model()\n",
    "    true_vars = [var for var in s.model() if is_true(m[var])]\n",
    "    print(true_vars)\n",
    "else:\n",
    "    print(\"Failed to solve\")"
   ]
  },
  {
   "cell_type": "code",
   "execution_count": 13,
   "metadata": {},
   "outputs": [
    {
     "name": "stdout",
     "output_type": "stream",
     "text": [
      "[3, 0, 0, 5] [0, 0, 5, 5]\n",
      "Solution h: 8\n",
      "Adding 5x5 circuit at (3, 0)\n",
      "Adding 3x5 circuit at (0, 0)\n",
      "Adding 5x3 circuit at (0, 5)\n",
      "Adding 3x3 circuit at (5, 5)\n"
     ]
    },
    {
     "data": {
      "image/png": "[encoded data removed]",
      "text/plain": [
       "<Figure size 576x576 with 1 Axes>"
      ]
     },
     "metadata": {
      "needs_background": "light"
     },
     "output_type": "display_data"
    }
   ],
   "source": [
    "assignments_x = []\n",
    "assignments_y = []\n",
    "for circ in range(inst.n):\n",
    "    assignments_x.append(min([int(str(var).split('_')[-1])\n",
    "        for var in true_vars \n",
    "        if re.match(f'px_{circ}', str(var))]\n",
    "    ))\n",
    "    assignments_y.append(min([int(str(var).split('_')[-1])\n",
    "        for var in true_vars \n",
    "        if re.match(f'py_{circ}', str(var))]\n",
    "    ))\n",
    "sol_h = max([assignments_y[i] + get_ch(i) for i in range(inst.n)])\n",
    "print(assignments_x, assignments_y)\n",
    "print(\"Solution h: {}\".format(sol_h))\n",
    "\n",
    "solution = SolutionInstance(\n",
    "    inst.wg, sol_h, inst.n,\n",
    "    [ Circuit(get_cw(i), get_ch(i), assignments_x[i], assignments_y[i]) \n",
    "        for i in range(inst.n) ]\n",
    ")\n",
    "solution.draw()"
   ]
  }
 ],
 "metadata": {
  "interpreter": {
   "hash": "dc853c7f7015bd35be3d092b4ae72891e0a9206ef7676926738faf242297c37d"
  },
  "kernelspec": {
   "display_name": "Python 3.8.5 ('.env': venv)",
   "language": "python",
   "name": "python3"
  },
  "language_info": {
   "codemirror_mode": {
    "name": "ipython",
    "version": 3
   },
   "file_extension": ".py",
   "mimetype": "text/x-python",
   "name": "python",
   "nbconvert_exporter": "python",
   "pygments_lexer": "ipython3",
   "version": "3.8.12"
  },
  "orig_nbformat": 4
 },
 "nbformat": 4,
 "nbformat_minor": 2
}
