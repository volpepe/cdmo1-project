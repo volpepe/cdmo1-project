{
 "cells": [
  {
   "cell_type": "code",
   "execution_count": 1,
   "metadata": {},
   "outputs": [],
   "source": [
    "from itertools import combinations\n",
    "import time\n",
    "import re\n",
    "import math\n",
    "import random\n",
    "from z3 import *\n",
    "\n",
    "from typing import Tuple, Dict\n",
    "\n",
    "import sys\n",
    "BASE_PATH = os.path.join(sys.path[0].split('cdmo1-project')[0], 'cdmo1-project')\n",
    "sys.path.append(os.path.join(BASE_PATH, 'utils'))\n",
    "from problem import ProblemInstance, parse_problem_file\n",
    "from solution import SolutionInstance, Circuit\n",
    "from initial_solution import construct_initial_solution\n",
    "from z3_utils import exactly_one, index_orders, at_least_one"
   ]
  },
  {
   "cell_type": "code",
   "execution_count": 2,
   "metadata": {},
   "outputs": [],
   "source": [
    "INSTANCE_NUM = 20\n",
    "\n",
    "inst = parse_problem_file(os.path.join(BASE_PATH, f'instances/ins-{INSTANCE_NUM}.txt'))\n",
    "initial_sol = construct_initial_solution(inst)"
   ]
  },
  {
   "cell_type": "code",
   "execution_count": 3,
   "metadata": {},
   "outputs": [],
   "source": [
    "def get_cw(circ:int):\n",
    "    return inst.circuits[circ].w\n",
    "\n",
    "def get_ch(circ:int):\n",
    "    return inst.circuits[circ].h\n",
    "\n",
    "def max_z3(vars):\n",
    "    max = vars[0]\n",
    "    for v in vars[1:]:\n",
    "        max = If(v > max, v, max)\n",
    "    return max\n",
    "\n",
    "def cumulative_z3(start_times, durations, res_requirements, bound):\n",
    "    '''\n",
    "    Cumulative constraint for Z3: we iterate over all possible times within bound\n",
    "    and for each time we check which tasks are involved by considering the start and\n",
    "    end times for each task. For all involved tasks, we sum their resource requirements\n",
    "    and constraint it to be below the fixed bound.\n",
    "    '''\n",
    "    return [Sum([                                                   # Sum over times in bound\n",
    "                If(start_times[i] <= t, 1, 0) *                     # For each task, if the time is after its starting time, return 1, 0 otherwise\n",
    "                If(t < start_times[i] + durations[i], 1, 0) *       # Multiply the 1 or 0 with the variable representing whether the time is also before the start_time + duration of the task\n",
    "                res_requirements[i]                                 # If both indices are 1, the task is to be considered involved, therefore we sum the resource requirements with all others for that time\n",
    "                for i in range(len(start_times))]) <= bound         # The sum of resource requirements must be kept below the bound threshold.\n",
    "            for t in range(bound)]\n",
    "\n",
    "def lex_lessex_z3(vars1, vars2):\n",
    "    constraints = [vars1[0] <= vars2[0]]\n",
    "    for i in range(1, len(vars1)-1):\n",
    "        constraints.append(Implies(vars1[i] == vars2[i], vars1[i+1] <= vars2[i+1]))\n",
    "    return And(constraints)\n"
   ]
  },
  {
   "cell_type": "code",
   "execution_count": 8,
   "metadata": {},
   "outputs": [
    {
     "data": {
      "text/plain": [
       "<z3.z3.OptimizeObjective at 0x25c56811c40>"
      ]
     },
     "execution_count": 8,
     "metadata": {},
     "output_type": "execute_result"
    }
   ],
   "source": [
    "## Constants\n",
    "W = inst.wg\n",
    "n = inst.n\n",
    "low_h = math.floor(sum([get_ch(circ)*get_cw(circ) for circ in range(n)]) / W)\n",
    "max_h = max([circ.y0 + circ.h for circ in initial_sol.circuits])\n",
    "\n",
    "## Optimizer\n",
    "opt = Optimize()\n",
    "opt.set(timeout=5*60*1000)\n",
    "\n",
    "## Variables\n",
    "cx = [Int(f'x_{circ}') for circ in range(n)]\n",
    "cy = [Int(f'y_{circ}') for circ in range(n)]\n",
    "cw = [Int(f'cw_{circ}') for circ in range(n)]\n",
    "ch = [Int(f'ch_{circ}') for circ in range(n)]\n",
    "transl_pos = [Int(f'tr_{circ}') for circ in range(n)]\n",
    "h = Int(f'h')\n",
    "\n",
    "## Domains\n",
    "for circ in range(n):\n",
    "    opt.add(And(0 <= cx[circ], cx[circ] <= W - get_cw(circ)))\n",
    "    opt.add(And(0 <= cy[circ], cy[circ] <= h - get_ch(circ)))\n",
    "    opt.add(And(low_h <= h, h <= max_h))\n",
    "    opt.add(transl_pos[circ] == cy[circ] * W + cx[circ])\n",
    "\n",
    "# All translated positions must be different\n",
    "opt.add(Distinct(transl_pos))\n",
    "# One circuit must be at 0\n",
    "exactly_one(opt, [transl_pos[circ] == 0 for circ in range(n)])\n",
    "    \n",
    "## Constraints\n",
    "# Bidimensional No-Overlap\n",
    "for ci, cj, in combinations(range(n), 2):\n",
    "    opt.add(Or(\n",
    "        cx[ci] + get_cw(ci) <= cx[cj],\n",
    "        cx[cj] + get_cw(cj) <= cx[ci],\n",
    "        cy[ci] + get_ch(ci) <= cy[cj],\n",
    "        cy[cj] + get_ch(cj) <= cy[ci]\n",
    "    ))\n",
    "\n",
    "# Cumulative constraint\n",
    "opt.add(cumulative_z3(cy, [get_ch(circ) for circ in range(n)],\n",
    "    [get_cw(circ) for circ in range(n)], W))\n",
    "#opt.add(cumulative_z3(cx, [get_cw(circ) for circ in range(n)],\n",
    "#    [get_ch(circ) for circ in range(n)], low_h))\n",
    "\n",
    "## Symmetry breaking\n",
    "opt.add([\n",
    "    lex_lessex_z3(transl_pos, [cy[c] * W + (W - cx[c] - get_cw(c)) for c in range(n)]),\n",
    "    lex_lessex_z3(transl_pos, [(h - cy[c] * get_ch(c)) * W + cx[c] for c in range(n)]),\n",
    "    lex_lessex_z3(transl_pos, [(h - cy[c] - get_ch(c)) * W + (W - cx[c] - get_cw(c)) for c in range(n)])\n",
    "])\n",
    "\n",
    "## Definition of the height variable\n",
    "opt.add(h == max_z3([cy[circ] + get_ch(circ) for circ in range(n)]))\n",
    "\n",
    "# Minimization problem\n",
    "opt.minimize(h)"
   ]
  },
  {
   "cell_type": "code",
   "execution_count": 9,
   "metadata": {},
   "outputs": [],
   "source": [
    "def obtain_solution(opt, verbose=False) -> Tuple[SolutionInstance, Dict[str, float]]:\n",
    "    times = {\n",
    "        'check_time': 0.0,\n",
    "        'model_time': 0.0\n",
    "    }\n",
    "    start_check = time.time()\n",
    "    check = opt.check()\n",
    "    end_check = time.time()\n",
    "    times['check_time'] = end_check - start_check\n",
    "    if check == sat:\n",
    "        # If SAT, construct the solution\n",
    "        start_get_true_vars = time.time()\n",
    "        sol = opt.model()\n",
    "        end_get_true_vars = time.time()\n",
    "        times['model_time'] = end_get_true_vars - start_get_true_vars\n",
    "        if verbose:\n",
    "            print(sol)\n",
    "        assignments_x = [int(sol[var].as_long()) \n",
    "            for circ in range(n)\n",
    "            for var in sol if re.match(f'x_{circ}$', str(var)) ]\n",
    "        assignments_y = [int(sol[var].as_long()) \n",
    "            for circ in range(n)\n",
    "            for var in sol if re.match(f'y_{circ}$', str(var)) ]\n",
    "        sol_h = int(sol[h].as_long())\n",
    "        if verbose:\n",
    "            print(assignments_x, assignments_y)\n",
    "            print(\"Solution h: {}\".format(sol_h))\n",
    "        solution = SolutionInstance(\n",
    "            W, sol_h, n,\n",
    "            [ Circuit(get_cw(i), get_ch(i), assignments_x[i], assignments_y[i]) \n",
    "                for i in range(n) ]\n",
    "        )\n",
    "        return solution, times\n",
    "    else:\n",
    "        print(check)\n",
    "        "
   ]
  },
  {
   "cell_type": "code",
   "execution_count": 10,
   "metadata": {},
   "outputs": [],
   "source": [
    "solution, model_time = obtain_solution(opt)\n",
    "solution.draw()"
   ]
  }
 ],
 "metadata": {
  "interpreter": {
   "hash": "a763db9eeabda012d6470d2fe813ea1de2b3c3c240651fcdaa8c3906c435840f"
  },
  "kernelspec": {
   "display_name": "Python 3.8.5 ('.env': venv)",
   "language": "python",
   "name": "python3"
  },
  "language_info": {
   "codemirror_mode": {
    "name": "ipython",
    "version": 3
   },
   "file_extension": ".py",
   "mimetype": "text/x-python",
   "name": "python",
   "nbconvert_exporter": "python",
   "pygments_lexer": "ipython3",
   "version": "3.8.5"
  },
  "orig_nbformat": 4
 },
 "nbformat": 4,
 "nbformat_minor": 2
}
